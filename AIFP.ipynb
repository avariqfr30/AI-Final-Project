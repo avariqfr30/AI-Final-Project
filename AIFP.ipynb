{
  "cells": [
    {
      "cell_type": "code",
      "execution_count": 1,
      "metadata": {
        "colab": {
          "base_uri": "https://localhost:8080/"
        },
        "id": "Q7-hmaAQSHQj",
        "outputId": "ee7c7be7-c595-425e-9b59-9346cdd7d6ed"
      },
      "outputs": [
        {
          "name": "stdout",
          "output_type": "stream",
          "text": [
            "Collecting tensorflow\n",
            "  Using cached tensorflow-2.15.0-cp310-cp310-win_amd64.whl (2.1 kB)\n",
            "Requirement already satisfied: tensorflow-intel==2.15.0 in c:\\users\\avari\\appdata\\local\\packages\\pythonsoftwarefoundation.python.3.10_qbz5n2kfra8p0\\localcache\\local-packages\\python310\\site-packages (from tensorflow) (2.15.0)\n",
            "Requirement already satisfied: six>=1.12.0 in c:\\users\\avari\\appdata\\local\\packages\\pythonsoftwarefoundation.python.3.10_qbz5n2kfra8p0\\localcache\\local-packages\\python310\\site-packages (from tensorflow-intel==2.15.0->tensorflow) (1.16.0)\n",
            "Requirement already satisfied: ml-dtypes~=0.2.0 in c:\\users\\avari\\appdata\\local\\packages\\pythonsoftwarefoundation.python.3.10_qbz5n2kfra8p0\\localcache\\local-packages\\python310\\site-packages (from tensorflow-intel==2.15.0->tensorflow) (0.2.0)\n",
            "Requirement already satisfied: flatbuffers>=23.5.26 in c:\\users\\avari\\appdata\\local\\packages\\pythonsoftwarefoundation.python.3.10_qbz5n2kfra8p0\\localcache\\local-packages\\python310\\site-packages (from tensorflow-intel==2.15.0->tensorflow) (23.5.26)\n",
            "Requirement already satisfied: keras<2.16,>=2.15.0 in c:\\users\\avari\\appdata\\local\\packages\\pythonsoftwarefoundation.python.3.10_qbz5n2kfra8p0\\localcache\\local-packages\\python310\\site-packages (from tensorflow-intel==2.15.0->tensorflow) (2.15.0)\n",
            "Requirement already satisfied: termcolor>=1.1.0 in c:\\users\\avari\\appdata\\local\\packages\\pythonsoftwarefoundation.python.3.10_qbz5n2kfra8p0\\localcache\\local-packages\\python310\\site-packages (from tensorflow-intel==2.15.0->tensorflow) (2.4.0)\n",
            "Requirement already satisfied: tensorboard<2.16,>=2.15 in c:\\users\\avari\\appdata\\local\\packages\\pythonsoftwarefoundation.python.3.10_qbz5n2kfra8p0\\localcache\\local-packages\\python310\\site-packages (from tensorflow-intel==2.15.0->tensorflow) (2.15.1)\n",
            "Requirement already satisfied: protobuf!=4.21.0,!=4.21.1,!=4.21.2,!=4.21.3,!=4.21.4,!=4.21.5,<5.0.0dev,>=3.20.3 in c:\\users\\avari\\appdata\\local\\packages\\pythonsoftwarefoundation.python.3.10_qbz5n2kfra8p0\\localcache\\local-packages\\python310\\site-packages (from tensorflow-intel==2.15.0->tensorflow) (4.23.4)\n",
            "Requirement already satisfied: absl-py>=1.0.0 in c:\\users\\avari\\appdata\\local\\packages\\pythonsoftwarefoundation.python.3.10_qbz5n2kfra8p0\\localcache\\local-packages\\python310\\site-packages (from tensorflow-intel==2.15.0->tensorflow) (2.0.0)\n",
            "Requirement already satisfied: typing-extensions>=3.6.6 in c:\\users\\avari\\appdata\\local\\packages\\pythonsoftwarefoundation.python.3.10_qbz5n2kfra8p0\\localcache\\local-packages\\python310\\site-packages (from tensorflow-intel==2.15.0->tensorflow) (4.9.0)\n",
            "Requirement already satisfied: opt-einsum>=2.3.2 in c:\\users\\avari\\appdata\\local\\packages\\pythonsoftwarefoundation.python.3.10_qbz5n2kfra8p0\\localcache\\local-packages\\python310\\site-packages (from tensorflow-intel==2.15.0->tensorflow) (3.3.0)\n",
            "Requirement already satisfied: h5py>=2.9.0 in c:\\users\\avari\\appdata\\local\\packages\\pythonsoftwarefoundation.python.3.10_qbz5n2kfra8p0\\localcache\\local-packages\\python310\\site-packages (from tensorflow-intel==2.15.0->tensorflow) (3.10.0)\n",
            "Requirement already satisfied: numpy<2.0.0,>=1.23.5 in c:\\users\\avari\\appdata\\local\\packages\\pythonsoftwarefoundation.python.3.10_qbz5n2kfra8p0\\localcache\\local-packages\\python310\\site-packages (from tensorflow-intel==2.15.0->tensorflow) (1.26.2)\n",
            "Requirement already satisfied: grpcio<2.0,>=1.24.3 in c:\\users\\avari\\appdata\\local\\packages\\pythonsoftwarefoundation.python.3.10_qbz5n2kfra8p0\\localcache\\local-packages\\python310\\site-packages (from tensorflow-intel==2.15.0->tensorflow) (1.60.0)\n",
            "Requirement already satisfied: packaging in c:\\users\\avari\\appdata\\local\\packages\\pythonsoftwarefoundation.python.3.10_qbz5n2kfra8p0\\localcache\\local-packages\\python310\\site-packages (from tensorflow-intel==2.15.0->tensorflow) (23.2)\n",
            "Requirement already satisfied: tensorflow-estimator<2.16,>=2.15.0 in c:\\users\\avari\\appdata\\local\\packages\\pythonsoftwarefoundation.python.3.10_qbz5n2kfra8p0\\localcache\\local-packages\\python310\\site-packages (from tensorflow-intel==2.15.0->tensorflow) (2.15.0)\n",
            "Requirement already satisfied: wrapt<1.15,>=1.11.0 in c:\\users\\avari\\appdata\\local\\packages\\pythonsoftwarefoundation.python.3.10_qbz5n2kfra8p0\\localcache\\local-packages\\python310\\site-packages (from tensorflow-intel==2.15.0->tensorflow) (1.14.1)\n",
            "Requirement already satisfied: setuptools in c:\\program files\\windowsapps\\pythonsoftwarefoundation.python.3.10_3.10.3056.0_x64__qbz5n2kfra8p0\\lib\\site-packages (from tensorflow-intel==2.15.0->tensorflow) (65.5.0)\n",
            "Requirement already satisfied: libclang>=13.0.0 in c:\\users\\avari\\appdata\\local\\packages\\pythonsoftwarefoundation.python.3.10_qbz5n2kfra8p0\\localcache\\local-packages\\python310\\site-packages (from tensorflow-intel==2.15.0->tensorflow) (16.0.6)\n",
            "Requirement already satisfied: tensorflow-io-gcs-filesystem>=0.23.1 in c:\\users\\avari\\appdata\\local\\packages\\pythonsoftwarefoundation.python.3.10_qbz5n2kfra8p0\\localcache\\local-packages\\python310\\site-packages (from tensorflow-intel==2.15.0->tensorflow) (0.31.0)\n",
            "Requirement already satisfied: google-pasta>=0.1.1 in c:\\users\\avari\\appdata\\local\\packages\\pythonsoftwarefoundation.python.3.10_qbz5n2kfra8p0\\localcache\\local-packages\\python310\\site-packages (from tensorflow-intel==2.15.0->tensorflow) (0.2.0)\n",
            "Requirement already satisfied: astunparse>=1.6.0 in c:\\users\\avari\\appdata\\local\\packages\\pythonsoftwarefoundation.python.3.10_qbz5n2kfra8p0\\localcache\\local-packages\\python310\\site-packages (from tensorflow-intel==2.15.0->tensorflow) (1.6.3)\n",
            "Requirement already satisfied: gast!=0.5.0,!=0.5.1,!=0.5.2,>=0.2.1 in c:\\users\\avari\\appdata\\local\\packages\\pythonsoftwarefoundation.python.3.10_qbz5n2kfra8p0\\localcache\\local-packages\\python310\\site-packages (from tensorflow-intel==2.15.0->tensorflow) (0.5.4)\n",
            "Requirement already satisfied: wheel<1.0,>=0.23.0 in c:\\users\\avari\\appdata\\local\\packages\\pythonsoftwarefoundation.python.3.10_qbz5n2kfra8p0\\localcache\\local-packages\\python310\\site-packages (from astunparse>=1.6.0->tensorflow-intel==2.15.0->tensorflow) (0.42.0)\n",
            "Requirement already satisfied: markdown>=2.6.8 in c:\\users\\avari\\appdata\\local\\packages\\pythonsoftwarefoundation.python.3.10_qbz5n2kfra8p0\\localcache\\local-packages\\python310\\site-packages (from tensorboard<2.16,>=2.15->tensorflow-intel==2.15.0->tensorflow) (3.5.1)\n",
            "Requirement already satisfied: requests<3,>=2.21.0 in c:\\users\\avari\\appdata\\local\\packages\\pythonsoftwarefoundation.python.3.10_qbz5n2kfra8p0\\localcache\\local-packages\\python310\\site-packages (from tensorboard<2.16,>=2.15->tensorflow-intel==2.15.0->tensorflow) (2.31.0)\n",
            "Requirement already satisfied: google-auth<3,>=1.6.3 in c:\\users\\avari\\appdata\\local\\packages\\pythonsoftwarefoundation.python.3.10_qbz5n2kfra8p0\\localcache\\local-packages\\python310\\site-packages (from tensorboard<2.16,>=2.15->tensorflow-intel==2.15.0->tensorflow) (2.25.2)\n",
            "Requirement already satisfied: werkzeug>=1.0.1 in c:\\users\\avari\\appdata\\local\\packages\\pythonsoftwarefoundation.python.3.10_qbz5n2kfra8p0\\localcache\\local-packages\\python310\\site-packages (from tensorboard<2.16,>=2.15->tensorflow-intel==2.15.0->tensorflow) (3.0.1)\n",
            "Requirement already satisfied: google-auth-oauthlib<2,>=0.5 in c:\\users\\avari\\appdata\\local\\packages\\pythonsoftwarefoundation.python.3.10_qbz5n2kfra8p0\\localcache\\local-packages\\python310\\site-packages (from tensorboard<2.16,>=2.15->tensorflow-intel==2.15.0->tensorflow) (1.2.0)\n",
            "Requirement already satisfied: tensorboard-data-server<0.8.0,>=0.7.0 in c:\\users\\avari\\appdata\\local\\packages\\pythonsoftwarefoundation.python.3.10_qbz5n2kfra8p0\\localcache\\local-packages\\python310\\site-packages (from tensorboard<2.16,>=2.15->tensorflow-intel==2.15.0->tensorflow) (0.7.2)\n",
            "Requirement already satisfied: rsa<5,>=3.1.4 in c:\\users\\avari\\appdata\\local\\packages\\pythonsoftwarefoundation.python.3.10_qbz5n2kfra8p0\\localcache\\local-packages\\python310\\site-packages (from google-auth<3,>=1.6.3->tensorboard<2.16,>=2.15->tensorflow-intel==2.15.0->tensorflow) (4.9)\n",
            "Requirement already satisfied: pyasn1-modules>=0.2.1 in c:\\users\\avari\\appdata\\local\\packages\\pythonsoftwarefoundation.python.3.10_qbz5n2kfra8p0\\localcache\\local-packages\\python310\\site-packages (from google-auth<3,>=1.6.3->tensorboard<2.16,>=2.15->tensorflow-intel==2.15.0->tensorflow) (0.3.0)\n",
            "Requirement already satisfied: cachetools<6.0,>=2.0.0 in c:\\users\\avari\\appdata\\local\\packages\\pythonsoftwarefoundation.python.3.10_qbz5n2kfra8p0\\localcache\\local-packages\\python310\\site-packages (from google-auth<3,>=1.6.3->tensorboard<2.16,>=2.15->tensorflow-intel==2.15.0->tensorflow) (5.3.2)\n",
            "Requirement already satisfied: requests-oauthlib>=0.7.0 in c:\\users\\avari\\appdata\\local\\packages\\pythonsoftwarefoundation.python.3.10_qbz5n2kfra8p0\\localcache\\local-packages\\python310\\site-packages (from google-auth-oauthlib<2,>=0.5->tensorboard<2.16,>=2.15->tensorflow-intel==2.15.0->tensorflow) (1.3.1)\n",
            "Requirement already satisfied: charset-normalizer<4,>=2 in c:\\users\\avari\\appdata\\local\\packages\\pythonsoftwarefoundation.python.3.10_qbz5n2kfra8p0\\localcache\\local-packages\\python310\\site-packages (from requests<3,>=2.21.0->tensorboard<2.16,>=2.15->tensorflow-intel==2.15.0->tensorflow) (3.3.2)\n",
            "Requirement already satisfied: certifi>=2017.4.17 in c:\\users\\avari\\appdata\\local\\packages\\pythonsoftwarefoundation.python.3.10_qbz5n2kfra8p0\\localcache\\local-packages\\python310\\site-packages (from requests<3,>=2.21.0->tensorboard<2.16,>=2.15->tensorflow-intel==2.15.0->tensorflow) (2023.11.17)\n",
            "Requirement already satisfied: urllib3<3,>=1.21.1 in c:\\users\\avari\\appdata\\local\\packages\\pythonsoftwarefoundation.python.3.10_qbz5n2kfra8p0\\localcache\\local-packages\\python310\\site-packages (from requests<3,>=2.21.0->tensorboard<2.16,>=2.15->tensorflow-intel==2.15.0->tensorflow) (2.1.0)\n",
            "Requirement already satisfied: idna<4,>=2.5 in c:\\users\\avari\\appdata\\local\\packages\\pythonsoftwarefoundation.python.3.10_qbz5n2kfra8p0\\localcache\\local-packages\\python310\\site-packages (from requests<3,>=2.21.0->tensorboard<2.16,>=2.15->tensorflow-intel==2.15.0->tensorflow) (3.6)\n",
            "Requirement already satisfied: MarkupSafe>=2.1.1 in c:\\users\\avari\\appdata\\local\\packages\\pythonsoftwarefoundation.python.3.10_qbz5n2kfra8p0\\localcache\\local-packages\\python310\\site-packages (from werkzeug>=1.0.1->tensorboard<2.16,>=2.15->tensorflow-intel==2.15.0->tensorflow) (2.1.3)\n",
            "Requirement already satisfied: pyasn1<0.6.0,>=0.4.6 in c:\\users\\avari\\appdata\\local\\packages\\pythonsoftwarefoundation.python.3.10_qbz5n2kfra8p0\\localcache\\local-packages\\python310\\site-packages (from pyasn1-modules>=0.2.1->google-auth<3,>=1.6.3->tensorboard<2.16,>=2.15->tensorflow-intel==2.15.0->tensorflow) (0.5.1)\n",
            "Requirement already satisfied: oauthlib>=3.0.0 in c:\\users\\avari\\appdata\\local\\packages\\pythonsoftwarefoundation.python.3.10_qbz5n2kfra8p0\\localcache\\local-packages\\python310\\site-packages (from requests-oauthlib>=0.7.0->google-auth-oauthlib<2,>=0.5->tensorboard<2.16,>=2.15->tensorflow-intel==2.15.0->tensorflow) (3.2.2)\n",
            "Installing collected packages: tensorflow\n",
            "Successfully installed tensorflow-2.15.0\n"
          ]
        },
        {
          "name": "stderr",
          "output_type": "stream",
          "text": [
            "\n",
            "[notice] A new release of pip is available: 23.0.1 -> 23.3.1\n",
            "[notice] To update, run: C:\\Users\\avari\\AppData\\Local\\Microsoft\\WindowsApps\\PythonSoftwareFoundation.Python.3.10_qbz5n2kfra8p0\\python.exe -m pip install --upgrade pip\n"
          ]
        },
        {
          "name": "stdout",
          "output_type": "stream",
          "text": [
            "Requirement already satisfied: nltk in c:\\users\\avari\\appdata\\local\\packages\\pythonsoftwarefoundation.python.3.10_qbz5n2kfra8p0\\localcache\\local-packages\\python310\\site-packages (3.8.1)\n",
            "Requirement already satisfied: click in c:\\users\\avari\\appdata\\local\\packages\\pythonsoftwarefoundation.python.3.10_qbz5n2kfra8p0\\localcache\\local-packages\\python310\\site-packages (from nltk) (8.1.7)\n",
            "Requirement already satisfied: joblib in c:\\users\\avari\\appdata\\local\\packages\\pythonsoftwarefoundation.python.3.10_qbz5n2kfra8p0\\localcache\\local-packages\\python310\\site-packages (from nltk) (1.3.2)\n",
            "Requirement already satisfied: tqdm in c:\\users\\avari\\appdata\\local\\packages\\pythonsoftwarefoundation.python.3.10_qbz5n2kfra8p0\\localcache\\local-packages\\python310\\site-packages (from nltk) (4.66.1)\n",
            "Requirement already satisfied: regex>=2021.8.3 in c:\\users\\avari\\appdata\\local\\packages\\pythonsoftwarefoundation.python.3.10_qbz5n2kfra8p0\\localcache\\local-packages\\python310\\site-packages (from nltk) (2023.10.3)\n",
            "Requirement already satisfied: colorama in c:\\users\\avari\\appdata\\local\\packages\\pythonsoftwarefoundation.python.3.10_qbz5n2kfra8p0\\localcache\\local-packages\\python310\\site-packages (from click->nltk) (0.4.6)\n"
          ]
        },
        {
          "name": "stderr",
          "output_type": "stream",
          "text": [
            "\n",
            "[notice] A new release of pip is available: 23.0.1 -> 23.3.1\n",
            "[notice] To update, run: C:\\Users\\avari\\AppData\\Local\\Microsoft\\WindowsApps\\PythonSoftwareFoundation.Python.3.10_qbz5n2kfra8p0\\python.exe -m pip install --upgrade pip\n"
          ]
        },
        {
          "name": "stdout",
          "output_type": "stream",
          "text": [
            "Requirement already satisfied: colorama in c:\\users\\avari\\appdata\\local\\packages\\pythonsoftwarefoundation.python.3.10_qbz5n2kfra8p0\\localcache\\local-packages\\python310\\site-packages (0.4.6)\n"
          ]
        },
        {
          "name": "stderr",
          "output_type": "stream",
          "text": [
            "\n",
            "[notice] A new release of pip is available: 23.0.1 -> 23.3.1\n",
            "[notice] To update, run: C:\\Users\\avari\\AppData\\Local\\Microsoft\\WindowsApps\\PythonSoftwareFoundation.Python.3.10_qbz5n2kfra8p0\\python.exe -m pip install --upgrade pip\n"
          ]
        },
        {
          "name": "stdout",
          "output_type": "stream",
          "text": [
            "Requirement already satisfied: numpy in c:\\users\\avari\\appdata\\local\\packages\\pythonsoftwarefoundation.python.3.10_qbz5n2kfra8p0\\localcache\\local-packages\\python310\\site-packages (1.26.2)\n"
          ]
        },
        {
          "name": "stderr",
          "output_type": "stream",
          "text": [
            "\n",
            "[notice] A new release of pip is available: 23.0.1 -> 23.3.1\n",
            "[notice] To update, run: C:\\Users\\avari\\AppData\\Local\\Microsoft\\WindowsApps\\PythonSoftwareFoundation.Python.3.10_qbz5n2kfra8p0\\python.exe -m pip install --upgrade pip\n"
          ]
        },
        {
          "name": "stdout",
          "output_type": "stream",
          "text": [
            "Collecting scikit_learn\n",
            "  Downloading scikit_learn-1.3.2-cp310-cp310-win_amd64.whl (9.3 MB)\n",
            "     ---------------------------------------- 0.0/9.3 MB ? eta -:--:--\n",
            "      --------------------------------------- 0.2/9.3 MB 4.6 MB/s eta 0:00:02\n",
            "     --- ------------------------------------ 0.9/9.3 MB 9.0 MB/s eta 0:00:01\n",
            "     -------- ------------------------------- 2.0/9.3 MB 14.1 MB/s eta 0:00:01\n",
            "     ------------- -------------------------- 3.1/9.3 MB 18.2 MB/s eta 0:00:01\n",
            "     ------------------- -------------------- 4.5/9.3 MB 20.5 MB/s eta 0:00:01\n",
            "     ------------------------- -------------- 5.8/9.3 MB 21.8 MB/s eta 0:00:01\n",
            "     ------------------------------ --------- 7.0/9.3 MB 22.4 MB/s eta 0:00:01\n",
            "     ----------------------------------- ---- 8.2/9.3 MB 22.9 MB/s eta 0:00:01\n",
            "     ---------------------------------------  9.2/9.3 MB 22.7 MB/s eta 0:00:01\n",
            "     ---------------------------------------- 9.3/9.3 MB 21.1 MB/s eta 0:00:00\n",
            "Requirement already satisfied: joblib>=1.1.1 in c:\\users\\avari\\appdata\\local\\packages\\pythonsoftwarefoundation.python.3.10_qbz5n2kfra8p0\\localcache\\local-packages\\python310\\site-packages (from scikit_learn) (1.3.2)\n",
            "Collecting scipy>=1.5.0\n",
            "  Downloading scipy-1.11.4-cp310-cp310-win_amd64.whl (44.1 MB)\n",
            "     ---------------------------------------- 0.0/44.1 MB ? eta -:--:--\n",
            "     - -------------------------------------- 1.3/44.1 MB 40.6 MB/s eta 0:00:02\n",
            "     -- ------------------------------------- 2.5/44.1 MB 31.5 MB/s eta 0:00:02\n",
            "     --- ------------------------------------ 3.7/44.1 MB 29.2 MB/s eta 0:00:02\n",
            "     ---- ----------------------------------- 4.9/44.1 MB 28.3 MB/s eta 0:00:02\n",
            "     ----- ---------------------------------- 6.1/44.1 MB 27.7 MB/s eta 0:00:02\n",
            "     ------ --------------------------------- 7.3/44.1 MB 27.3 MB/s eta 0:00:02\n",
            "     ------- -------------------------------- 8.5/44.1 MB 27.1 MB/s eta 0:00:02\n",
            "     -------- ------------------------------- 9.6/44.1 MB 26.7 MB/s eta 0:00:02\n",
            "     --------- ----------------------------- 10.9/44.1 MB 26.2 MB/s eta 0:00:02\n",
            "     ---------- ---------------------------- 12.0/44.1 MB 25.1 MB/s eta 0:00:02\n",
            "     ----------- --------------------------- 13.3/44.1 MB 25.2 MB/s eta 0:00:02\n",
            "     ------------ -------------------------- 14.4/44.1 MB 26.2 MB/s eta 0:00:02\n",
            "     ------------- ------------------------- 15.7/44.1 MB 26.2 MB/s eta 0:00:02\n",
            "     -------------- ------------------------ 16.8/44.1 MB 26.2 MB/s eta 0:00:02\n",
            "     --------------- ----------------------- 18.0/44.1 MB 26.2 MB/s eta 0:00:01\n",
            "     ---------------- ---------------------- 19.2/44.1 MB 26.2 MB/s eta 0:00:01\n",
            "     ------------------ -------------------- 20.4/44.1 MB 26.2 MB/s eta 0:00:01\n",
            "     ------------------- ------------------- 21.6/44.1 MB 26.2 MB/s eta 0:00:01\n",
            "     -------------------- ------------------ 22.8/44.1 MB 26.2 MB/s eta 0:00:01\n",
            "     --------------------- ----------------- 24.1/44.1 MB 26.2 MB/s eta 0:00:01\n",
            "     ---------------------- ---------------- 25.2/44.1 MB 26.2 MB/s eta 0:00:01\n",
            "     ----------------------- --------------- 26.4/44.1 MB 26.2 MB/s eta 0:00:01\n",
            "     ------------------------ -------------- 27.6/44.1 MB 26.2 MB/s eta 0:00:01\n",
            "     ------------------------- ------------- 28.8/44.1 MB 26.2 MB/s eta 0:00:01\n",
            "     -------------------------- ------------ 30.0/44.1 MB 26.2 MB/s eta 0:00:01\n",
            "     --------------------------- ----------- 31.2/44.1 MB 26.2 MB/s eta 0:00:01\n",
            "     ---------------------------- ---------- 32.4/44.1 MB 26.2 MB/s eta 0:00:01\n",
            "     ----------------------------- --------- 33.5/44.1 MB 25.1 MB/s eta 0:00:01\n",
            "     ------------------------------ -------- 34.9/44.1 MB 26.2 MB/s eta 0:00:01\n",
            "     ------------------------------- ------- 36.0/44.1 MB 25.2 MB/s eta 0:00:01\n",
            "     -------------------------------- ------ 37.2/44.1 MB 25.2 MB/s eta 0:00:01\n",
            "     --------------------------------- ----- 38.4/44.1 MB 26.2 MB/s eta 0:00:01\n",
            "     ---------------------------------- ---- 39.6/44.1 MB 26.2 MB/s eta 0:00:01\n",
            "     ------------------------------------ -- 40.8/44.1 MB 26.2 MB/s eta 0:00:01\n",
            "     ------------------------------------- - 42.0/44.1 MB 26.2 MB/s eta 0:00:01\n",
            "     --------------------------------------  43.2/44.1 MB 26.2 MB/s eta 0:00:01\n",
            "     --------------------------------------  44.1/44.1 MB 25.2 MB/s eta 0:00:01\n",
            "     --------------------------------------  44.1/44.1 MB 25.2 MB/s eta 0:00:01\n",
            "     --------------------------------------  44.1/44.1 MB 25.2 MB/s eta 0:00:01\n",
            "     --------------------------------------- 44.1/44.1 MB 19.3 MB/s eta 0:00:00\n",
            "Collecting threadpoolctl>=2.0.0\n",
            "  Downloading threadpoolctl-3.2.0-py3-none-any.whl (15 kB)\n",
            "Requirement already satisfied: numpy<2.0,>=1.17.3 in c:\\users\\avari\\appdata\\local\\packages\\pythonsoftwarefoundation.python.3.10_qbz5n2kfra8p0\\localcache\\local-packages\\python310\\site-packages (from scikit_learn) (1.26.2)\n",
            "Installing collected packages: threadpoolctl, scipy, scikit_learn\n",
            "Successfully installed scikit_learn-1.3.2 scipy-1.11.4 threadpoolctl-3.2.0\n"
          ]
        },
        {
          "name": "stderr",
          "output_type": "stream",
          "text": [
            "\n",
            "[notice] A new release of pip is available: 23.0.1 -> 23.3.1\n",
            "[notice] To update, run: C:\\Users\\avari\\AppData\\Local\\Microsoft\\WindowsApps\\PythonSoftwareFoundation.Python.3.10_qbz5n2kfra8p0\\python.exe -m pip install --upgrade pip\n"
          ]
        },
        {
          "name": "stdout",
          "output_type": "stream",
          "text": [
            "Collecting Flask\n",
            "  Downloading flask-3.0.0-py3-none-any.whl (99 kB)\n",
            "     ---------------------------------------- 0.0/99.7 kB ? eta -:--:--\n",
            "     ---------------------------------------- 99.7/99.7 kB 2.9 MB/s eta 0:00:00\n",
            "Requirement already satisfied: click>=8.1.3 in c:\\users\\avari\\appdata\\local\\packages\\pythonsoftwarefoundation.python.3.10_qbz5n2kfra8p0\\localcache\\local-packages\\python310\\site-packages (from Flask) (8.1.7)\n",
            "Collecting blinker>=1.6.2\n",
            "  Downloading blinker-1.7.0-py3-none-any.whl (13 kB)\n",
            "Requirement already satisfied: Werkzeug>=3.0.0 in c:\\users\\avari\\appdata\\local\\packages\\pythonsoftwarefoundation.python.3.10_qbz5n2kfra8p0\\localcache\\local-packages\\python310\\site-packages (from Flask) (3.0.1)\n",
            "Collecting Jinja2>=3.1.2\n",
            "  Downloading Jinja2-3.1.2-py3-none-any.whl (133 kB)\n",
            "     ---------------------------------------- 0.0/133.1 kB ? eta -:--:--\n",
            "     -------------------------------------- 133.1/133.1 kB 3.8 MB/s eta 0:00:00\n",
            "Collecting itsdangerous>=2.1.2\n",
            "  Downloading itsdangerous-2.1.2-py3-none-any.whl (15 kB)\n",
            "Requirement already satisfied: colorama in c:\\users\\avari\\appdata\\local\\packages\\pythonsoftwarefoundation.python.3.10_qbz5n2kfra8p0\\localcache\\local-packages\\python310\\site-packages (from click>=8.1.3->Flask) (0.4.6)\n",
            "Requirement already satisfied: MarkupSafe>=2.0 in c:\\users\\avari\\appdata\\local\\packages\\pythonsoftwarefoundation.python.3.10_qbz5n2kfra8p0\\localcache\\local-packages\\python310\\site-packages (from Jinja2>=3.1.2->Flask) (2.1.3)\n",
            "Installing collected packages: Jinja2, itsdangerous, blinker, Flask\n",
            "Successfully installed Flask-3.0.0 Jinja2-3.1.2 blinker-1.7.0 itsdangerous-2.1.2\n"
          ]
        },
        {
          "name": "stderr",
          "output_type": "stream",
          "text": [
            "\n",
            "[notice] A new release of pip is available: 23.0.1 -> 23.3.1\n",
            "[notice] To update, run: C:\\Users\\avari\\AppData\\Local\\Microsoft\\WindowsApps\\PythonSoftwareFoundation.Python.3.10_qbz5n2kfra8p0\\python.exe -m pip install --upgrade pip\n"
          ]
        }
      ],
      "source": [
        "!pip install tensorflow\n",
        "!pip install nltk\n",
        "!pip install colorama\n",
        "!pip install numpy\n",
        "!pip install scikit_learn\n",
        "!pip install Flask"
      ]
    },
    {
      "cell_type": "code",
      "execution_count": 1,
      "metadata": {
        "id": "eoRj_Yf1SndJ"
      },
      "outputs": [
        {
          "name": "stdout",
          "output_type": "stream",
          "text": [
            "WARNING:tensorflow:From C:\\Users\\avari\\AppData\\Local\\Packages\\PythonSoftwareFoundation.Python.3.10_qbz5n2kfra8p0\\LocalCache\\local-packages\\Python310\\site-packages\\keras\\src\\losses.py:2976: The name tf.losses.sparse_softmax_cross_entropy is deprecated. Please use tf.compat.v1.losses.sparse_softmax_cross_entropy instead.\n",
            "\n"
          ]
        }
      ],
      "source": [
        "import json\n",
        "import tensorflow as tf\n",
        "from tensorflow import keras\n",
        "import numpy as np\n",
        "from tensorflow.keras.models import Sequential\n",
        "from tensorflow.keras.layers import Dense, Embedding, GlobalAveragePooling1D\n",
        "from tensorflow.keras.preprocessing.text import Tokenizer\n",
        "from tensorflow.keras.preprocessing.sequence import pad_sequences\n",
        "from sklearn.preprocessing import LabelEncoder"
      ]
    },
    {
      "cell_type": "code",
      "execution_count": 11,
      "metadata": {
        "id": "8LhhW9DIS6ee"
      },
      "outputs": [],
      "source": [
        "with open('C:/Users/avari/OneDrive/Documents/AI Final Project/intents.json') as file:\n",
        "    data = json.load(file)\n",
        "\n",
        "training_sentences = []\n",
        "training_labels = []\n",
        "labels = []\n",
        "responses = []\n",
        "\n",
        "\n",
        "for intent in data['intents']:\n",
        "    for pattern in intent['patterns']:\n",
        "        training_sentences.append(pattern)\n",
        "        training_labels.append(intent['tag'])\n",
        "    responses.append(intent['responses'])\n",
        "\n",
        "    if intent['tag'] not in labels:\n",
        "        labels.append(intent['tag'])\n",
        "\n",
        "num_classes = len(labels)"
      ]
    },
    {
      "cell_type": "code",
      "execution_count": 12,
      "metadata": {
        "id": "T7r9aK-1TAq8"
      },
      "outputs": [],
      "source": [
        "lbl_encoder = LabelEncoder()\n",
        "lbl_encoder.fit(training_labels)\n",
        "training_labels = lbl_encoder.transform(training_labels)"
      ]
    },
    {
      "cell_type": "code",
      "execution_count": 13,
      "metadata": {
        "id": "t3URjQDCTEQ3"
      },
      "outputs": [],
      "source": [
        "vocab_size = 30000\n",
        "embedding_dim = 200\n",
        "max_len = 20\n",
        "oov_token = \"<OOV>\"\n",
        "\n",
        "tokenizer = Tokenizer(num_words=vocab_size, oov_token=oov_token)\n",
        "tokenizer.fit_on_texts(training_sentences)\n",
        "word_index = tokenizer.word_index\n",
        "sequences = tokenizer.texts_to_sequences(training_sentences)\n",
        "padded_sequences = pad_sequences(sequences, truncating='post', maxlen=max_len)"
      ]
    },
    {
      "cell_type": "code",
      "execution_count": 14,
      "metadata": {
        "colab": {
          "base_uri": "https://localhost:8080/"
        },
        "id": "SQUNNTLMTGuQ",
        "outputId": "03ca2f51-50f0-4ec4-a411-07204bf3b40b"
      },
      "outputs": [
        {
          "name": "stdout",
          "output_type": "stream",
          "text": [
            "Model: \"sequential_1\"\n",
            "_________________________________________________________________\n",
            " Layer (type)                Output Shape              Param #   \n",
            "=================================================================\n",
            " embedding_1 (Embedding)     (None, 20, 200)           6000000   \n",
            "                                                                 \n",
            " global_average_pooling1d_1  (None, 200)               0         \n",
            "  (GlobalAveragePooling1D)                                       \n",
            "                                                                 \n",
            " dense_3 (Dense)             (None, 200)               40200     \n",
            "                                                                 \n",
            " dense_4 (Dense)             (None, 200)               40200     \n",
            "                                                                 \n",
            " dense_5 (Dense)             (None, 16)                3216      \n",
            "                                                                 \n",
            "=================================================================\n",
            "Total params: 6083616 (23.21 MB)\n",
            "Trainable params: 6083616 (23.21 MB)\n",
            "Non-trainable params: 0 (0.00 Byte)\n",
            "_________________________________________________________________\n"
          ]
        }
      ],
      "source": [
        "# Model Testing\n",
        "model = Sequential()\n",
        "model.add(Embedding(vocab_size, embedding_dim, input_length=max_len))\n",
        "model.add(GlobalAveragePooling1D())\n",
        "model.add(Dense(200, activation='relu'))\n",
        "model.add(Dense(200, activation='relu'))\n",
        "model.add(Dense(num_classes, activation='softmax'))\n",
        "\n",
        "model.compile(loss='sparse_categorical_crossentropy',\n",
        "              optimizer='adam', metrics=['accuracy'])\n",
        "\n",
        "model.summary()"
      ]
    },
    {
      "cell_type": "code",
      "execution_count": 15,
      "metadata": {
        "colab": {
          "base_uri": "https://localhost:8080/"
        },
        "id": "jBD63lwYTPmb",
        "outputId": "ced9cd52-ff8c-499b-b354-d0a3c6032736"
      },
      "outputs": [
        {
          "name": "stdout",
          "output_type": "stream",
          "text": [
            "Epoch 1/100\n",
            "3/3 [==============================] - 1s 46ms/step - loss: 2.7751 - accuracy: 0.0465\n",
            "Epoch 2/100\n",
            "3/3 [==============================] - 0s 29ms/step - loss: 2.7677 - accuracy: 0.0930\n",
            "Epoch 3/100\n",
            "3/3 [==============================] - 0s 19ms/step - loss: 2.7626 - accuracy: 0.0930\n",
            "Epoch 4/100\n",
            "3/3 [==============================] - 0s 20ms/step - loss: 2.7600 - accuracy: 0.0930\n",
            "Epoch 5/100\n",
            "3/3 [==============================] - 0s 20ms/step - loss: 2.7546 - accuracy: 0.0930\n",
            "Epoch 6/100\n",
            "3/3 [==============================] - 0s 20ms/step - loss: 2.7517 - accuracy: 0.0930\n",
            "Epoch 7/100\n",
            "3/3 [==============================] - 0s 20ms/step - loss: 2.7461 - accuracy: 0.0930\n",
            "Epoch 8/100\n",
            "3/3 [==============================] - 0s 20ms/step - loss: 2.7427 - accuracy: 0.0930\n",
            "Epoch 9/100\n",
            "3/3 [==============================] - 0s 20ms/step - loss: 2.7364 - accuracy: 0.0930\n",
            "Epoch 10/100\n",
            "3/3 [==============================] - 0s 19ms/step - loss: 2.7326 - accuracy: 0.0930\n",
            "Epoch 11/100\n",
            "3/3 [==============================] - 0s 20ms/step - loss: 2.7264 - accuracy: 0.0930\n",
            "Epoch 12/100\n",
            "3/3 [==============================] - 0s 19ms/step - loss: 2.7193 - accuracy: 0.0930\n",
            "Epoch 13/100\n",
            "3/3 [==============================] - 0s 20ms/step - loss: 2.7116 - accuracy: 0.0930\n",
            "Epoch 14/100\n",
            "3/3 [==============================] - 0s 20ms/step - loss: 2.7046 - accuracy: 0.0930\n",
            "Epoch 15/100\n",
            "3/3 [==============================] - 0s 19ms/step - loss: 2.6936 - accuracy: 0.0930\n",
            "Epoch 16/100\n",
            "3/3 [==============================] - 0s 20ms/step - loss: 2.6841 - accuracy: 0.0930\n",
            "Epoch 17/100\n",
            "3/3 [==============================] - 0s 20ms/step - loss: 2.6700 - accuracy: 0.0930\n",
            "Epoch 18/100\n",
            "3/3 [==============================] - 0s 21ms/step - loss: 2.6549 - accuracy: 0.0930\n",
            "Epoch 19/100\n",
            "3/3 [==============================] - 0s 20ms/step - loss: 2.6369 - accuracy: 0.0930\n",
            "Epoch 20/100\n",
            "3/3 [==============================] - 0s 20ms/step - loss: 2.6159 - accuracy: 0.0930\n",
            "Epoch 21/100\n",
            "3/3 [==============================] - 0s 20ms/step - loss: 2.5918 - accuracy: 0.0930\n",
            "Epoch 22/100\n",
            "3/3 [==============================] - 0s 20ms/step - loss: 2.5615 - accuracy: 0.0930\n",
            "Epoch 23/100\n",
            "3/3 [==============================] - 0s 20ms/step - loss: 2.5280 - accuracy: 0.0930\n",
            "Epoch 24/100\n",
            "3/3 [==============================] - 0s 20ms/step - loss: 2.4871 - accuracy: 0.1047\n",
            "Epoch 25/100\n",
            "3/3 [==============================] - 0s 20ms/step - loss: 2.4438 - accuracy: 0.1163\n",
            "Epoch 26/100\n",
            "3/3 [==============================] - 0s 20ms/step - loss: 2.3881 - accuracy: 0.1512\n",
            "Epoch 27/100\n",
            "3/3 [==============================] - 0s 19ms/step - loss: 2.3269 - accuracy: 0.1860\n",
            "Epoch 28/100\n",
            "3/3 [==============================] - 0s 19ms/step - loss: 2.2596 - accuracy: 0.2093\n",
            "Epoch 29/100\n",
            "3/3 [==============================] - 0s 19ms/step - loss: 2.1800 - accuracy: 0.2674\n",
            "Epoch 30/100\n",
            "3/3 [==============================] - 0s 20ms/step - loss: 2.0937 - accuracy: 0.3372\n",
            "Epoch 31/100\n",
            "3/3 [==============================] - 0s 20ms/step - loss: 1.9937 - accuracy: 0.3605\n",
            "Epoch 32/100\n",
            "3/3 [==============================] - 0s 19ms/step - loss: 1.8873 - accuracy: 0.4186\n",
            "Epoch 33/100\n",
            "3/3 [==============================] - 0s 19ms/step - loss: 1.7722 - accuracy: 0.4884\n",
            "Epoch 34/100\n",
            "3/3 [==============================] - 0s 19ms/step - loss: 1.6594 - accuracy: 0.6395\n",
            "Epoch 35/100\n",
            "3/3 [==============================] - 0s 20ms/step - loss: 1.5441 - accuracy: 0.6395\n",
            "Epoch 36/100\n",
            "3/3 [==============================] - 0s 19ms/step - loss: 1.4371 - accuracy: 0.7209\n",
            "Epoch 37/100\n",
            "3/3 [==============================] - 0s 20ms/step - loss: 1.3317 - accuracy: 0.6860\n",
            "Epoch 38/100\n",
            "3/3 [==============================] - 0s 20ms/step - loss: 1.2287 - accuracy: 0.6860\n",
            "Epoch 39/100\n",
            "3/3 [==============================] - 0s 20ms/step - loss: 1.1385 - accuracy: 0.7326\n",
            "Epoch 40/100\n",
            "3/3 [==============================] - 0s 19ms/step - loss: 1.0457 - accuracy: 0.7674\n",
            "Epoch 41/100\n",
            "3/3 [==============================] - 0s 20ms/step - loss: 0.9753 - accuracy: 0.7442\n",
            "Epoch 42/100\n",
            "3/3 [==============================] - 0s 19ms/step - loss: 0.9099 - accuracy: 0.8023\n",
            "Epoch 43/100\n",
            "3/3 [==============================] - 0s 20ms/step - loss: 0.8366 - accuracy: 0.8372\n",
            "Epoch 44/100\n",
            "3/3 [==============================] - 0s 20ms/step - loss: 0.7730 - accuracy: 0.8953\n",
            "Epoch 45/100\n",
            "3/3 [==============================] - 0s 20ms/step - loss: 0.7261 - accuracy: 0.8721\n",
            "Epoch 46/100\n",
            "3/3 [==============================] - 0s 19ms/step - loss: 0.6739 - accuracy: 0.8256\n",
            "Epoch 47/100\n",
            "3/3 [==============================] - 0s 19ms/step - loss: 0.6226 - accuracy: 0.8837\n",
            "Epoch 48/100\n",
            "3/3 [==============================] - 0s 20ms/step - loss: 0.5898 - accuracy: 0.9070\n",
            "Epoch 49/100\n",
            "3/3 [==============================] - 0s 19ms/step - loss: 0.5408 - accuracy: 0.9302\n",
            "Epoch 50/100\n",
            "3/3 [==============================] - 0s 20ms/step - loss: 0.5047 - accuracy: 0.9186\n",
            "Epoch 51/100\n",
            "3/3 [==============================] - 0s 22ms/step - loss: 0.4710 - accuracy: 0.8837\n",
            "Epoch 52/100\n",
            "3/3 [==============================] - 0s 20ms/step - loss: 0.4485 - accuracy: 0.9070\n",
            "Epoch 53/100\n",
            "3/3 [==============================] - 0s 20ms/step - loss: 0.4024 - accuracy: 0.9419\n",
            "Epoch 54/100\n",
            "3/3 [==============================] - 0s 19ms/step - loss: 0.3874 - accuracy: 0.9302\n",
            "Epoch 55/100\n",
            "3/3 [==============================] - 0s 20ms/step - loss: 0.3593 - accuracy: 0.9302\n",
            "Epoch 56/100\n",
            "3/3 [==============================] - 0s 20ms/step - loss: 0.3393 - accuracy: 0.9419\n",
            "Epoch 57/100\n",
            "3/3 [==============================] - 0s 19ms/step - loss: 0.3084 - accuracy: 0.9535\n",
            "Epoch 58/100\n",
            "3/3 [==============================] - 0s 20ms/step - loss: 0.2904 - accuracy: 0.9651\n",
            "Epoch 59/100\n",
            "3/3 [==============================] - 0s 19ms/step - loss: 0.2727 - accuracy: 0.9535\n",
            "Epoch 60/100\n",
            "3/3 [==============================] - 0s 20ms/step - loss: 0.2542 - accuracy: 0.9302\n",
            "Epoch 61/100\n",
            "3/3 [==============================] - 0s 19ms/step - loss: 0.2411 - accuracy: 0.9419\n",
            "Epoch 62/100\n",
            "3/3 [==============================] - 0s 19ms/step - loss: 0.2240 - accuracy: 0.9651\n",
            "Epoch 63/100\n",
            "3/3 [==============================] - 0s 19ms/step - loss: 0.2128 - accuracy: 0.9651\n",
            "Epoch 64/100\n",
            "3/3 [==============================] - 0s 20ms/step - loss: 0.1991 - accuracy: 0.9651\n",
            "Epoch 65/100\n",
            "3/3 [==============================] - 0s 20ms/step - loss: 0.1863 - accuracy: 0.9535\n",
            "Epoch 66/100\n",
            "3/3 [==============================] - 0s 20ms/step - loss: 0.1769 - accuracy: 0.9651\n",
            "Epoch 67/100\n",
            "3/3 [==============================] - 0s 19ms/step - loss: 0.1707 - accuracy: 0.9651\n",
            "Epoch 68/100\n",
            "3/3 [==============================] - 0s 20ms/step - loss: 0.1620 - accuracy: 0.9535\n",
            "Epoch 69/100\n",
            "3/3 [==============================] - 0s 19ms/step - loss: 0.1510 - accuracy: 0.9651\n",
            "Epoch 70/100\n",
            "3/3 [==============================] - 0s 20ms/step - loss: 0.1482 - accuracy: 0.9651\n",
            "Epoch 71/100\n",
            "3/3 [==============================] - 0s 20ms/step - loss: 0.1388 - accuracy: 0.9651\n",
            "Epoch 72/100\n",
            "3/3 [==============================] - 0s 20ms/step - loss: 0.1372 - accuracy: 0.9535\n",
            "Epoch 73/100\n",
            "3/3 [==============================] - 0s 21ms/step - loss: 0.1274 - accuracy: 0.9535\n",
            "Epoch 74/100\n",
            "3/3 [==============================] - 0s 20ms/step - loss: 0.1236 - accuracy: 0.9651\n",
            "Epoch 75/100\n",
            "3/3 [==============================] - 0s 20ms/step - loss: 0.1223 - accuracy: 0.9419\n",
            "Epoch 76/100\n",
            "3/3 [==============================] - 0s 20ms/step - loss: 0.1216 - accuracy: 0.9302\n",
            "Epoch 77/100\n",
            "3/3 [==============================] - 0s 20ms/step - loss: 0.1127 - accuracy: 0.9535\n",
            "Epoch 78/100\n",
            "3/3 [==============================] - 0s 20ms/step - loss: 0.1077 - accuracy: 0.9535\n",
            "Epoch 79/100\n",
            "3/3 [==============================] - 0s 20ms/step - loss: 0.1105 - accuracy: 0.9419\n",
            "Epoch 80/100\n",
            "3/3 [==============================] - 0s 20ms/step - loss: 0.1061 - accuracy: 0.9651\n",
            "Epoch 81/100\n",
            "3/3 [==============================] - 0s 20ms/step - loss: 0.1025 - accuracy: 0.9651\n",
            "Epoch 82/100\n",
            "3/3 [==============================] - 0s 19ms/step - loss: 0.0972 - accuracy: 0.9651\n",
            "Epoch 83/100\n",
            "3/3 [==============================] - 0s 20ms/step - loss: 0.0935 - accuracy: 0.9651\n",
            "Epoch 84/100\n",
            "3/3 [==============================] - 0s 19ms/step - loss: 0.0922 - accuracy: 0.9535\n",
            "Epoch 85/100\n",
            "3/3 [==============================] - 0s 19ms/step - loss: 0.0905 - accuracy: 0.9651\n",
            "Epoch 86/100\n",
            "3/3 [==============================] - 0s 20ms/step - loss: 0.0879 - accuracy: 0.9651\n",
            "Epoch 87/100\n",
            "3/3 [==============================] - 0s 19ms/step - loss: 0.0872 - accuracy: 0.9651\n",
            "Epoch 88/100\n",
            "3/3 [==============================] - 0s 19ms/step - loss: 0.0894 - accuracy: 0.9419\n",
            "Epoch 89/100\n",
            "3/3 [==============================] - 0s 20ms/step - loss: 0.0876 - accuracy: 0.9419\n",
            "Epoch 90/100\n",
            "3/3 [==============================] - 0s 20ms/step - loss: 0.0802 - accuracy: 0.9651\n",
            "Epoch 91/100\n",
            "3/3 [==============================] - 0s 20ms/step - loss: 0.0851 - accuracy: 0.9535\n",
            "Epoch 92/100\n",
            "3/3 [==============================] - 0s 20ms/step - loss: 0.0805 - accuracy: 0.9651\n",
            "Epoch 93/100\n",
            "3/3 [==============================] - 0s 20ms/step - loss: 0.0821 - accuracy: 0.9419\n",
            "Epoch 94/100\n",
            "3/3 [==============================] - 0s 20ms/step - loss: 0.0801 - accuracy: 0.9651\n",
            "Epoch 95/100\n",
            "3/3 [==============================] - 0s 20ms/step - loss: 0.0764 - accuracy: 0.9651\n",
            "Epoch 96/100\n",
            "3/3 [==============================] - 0s 20ms/step - loss: 0.0736 - accuracy: 0.9651\n",
            "Epoch 97/100\n",
            "3/3 [==============================] - 0s 20ms/step - loss: 0.0769 - accuracy: 0.9651\n",
            "Epoch 98/100\n",
            "3/3 [==============================] - 0s 20ms/step - loss: 0.0738 - accuracy: 0.9651\n",
            "Epoch 99/100\n",
            "3/3 [==============================] - 0s 19ms/step - loss: 0.0713 - accuracy: 0.9651\n",
            "Epoch 100/100\n",
            "3/3 [==============================] - 0s 20ms/step - loss: 0.0774 - accuracy: 0.9651\n"
          ]
        }
      ],
      "source": [
        "# Epochs\n",
        "epochs = 100\n",
        "history = model.fit(padded_sequences, np.array(training_labels), epochs=epochs)"
      ]
    },
    {
      "cell_type": "code",
      "execution_count": 16,
      "metadata": {
        "id": "I6c1o9qZTXR3"
      },
      "outputs": [
        {
          "name": "stdout",
          "output_type": "stream",
          "text": [
            "INFO:tensorflow:Assets written to: C:/Users/avari/OneDrive/Documents/AI Final Project/Test/chat_model\\assets\n"
          ]
        },
        {
          "name": "stderr",
          "output_type": "stream",
          "text": [
            "INFO:tensorflow:Assets written to: C:/Users/avari/OneDrive/Documents/AI Final Project/Test/chat_model\\assets\n"
          ]
        }
      ],
      "source": [
        "# to save the trained model\n",
        "model.save(\"C:/Users/avari/OneDrive/Documents/AI Final Project/Test/chat_model\")\n",
        "\n",
        "import pickle\n",
        "\n",
        "# to save the fitted tokenizer\n",
        "with open('C:/Users/avari/OneDrive/Documents/AI Final Project/Test/tokenizer.pickle', 'wb') as handle:\n",
        "    pickle.dump(tokenizer, handle, protocol=pickle.HIGHEST_PROTOCOL)\n",
        "\n",
        "# to save the fitted label encoder\n",
        "with open('C:/Users/avari/OneDrive/Documents/AI Final Project/Test/label_encoder.pickle', 'wb') as ecn_file:\n",
        "    pickle.dump(lbl_encoder, ecn_file, protocol=pickle.HIGHEST_PROTOCOL)"
      ]
    },
    {
      "cell_type": "code",
      "execution_count": 17,
      "metadata": {
        "colab": {
          "base_uri": "https://localhost:8080/"
        },
        "id": "O25JESSMTnAc",
        "outputId": "abb9f6ad-b9d3-47e2-9124-b8ebf638295e"
      },
      "outputs": [
        {
          "name": "stdout",
          "output_type": "stream",
          "text": [
            "Start messaging with the bot (type quit to stop)!\n",
            "1/1 [==============================] - 0s 44ms/step\n",
            "Companion Bot: Hi there! I'm here and ready to chat. What's on your mind?\n",
            "1/1 [==============================] - 0s 16ms/step\n",
            "Companion Bot: Today has been eventful, filled with interesting interactions. Now, I'm focused on our conversation. How about your day?\n",
            "1/1 [==============================] - 0s 18ms/step\n",
            "Companion Bot: You are stronger than you think. Even in difficult times, your resilience shines through. Keep going!\n",
            "1/1 [==============================] - 0s 18ms/step\n",
            "Companion Bot: Congratulations on your achievement! That's fantastic news. Let's celebrate your success together.\n",
            "1/1 [==============================] - 0s 17ms/step\n",
            "Companion Bot: I'm glad I could assist! If you have more questions, feel free to ask.\n",
            "User: "
          ]
        }
      ],
      "source": [
        "import json\n",
        "import numpy as np\n",
        "from tensorflow import keras\n",
        "from sklearn.preprocessing import LabelEncoder\n",
        "\n",
        "import colorama\n",
        "colorama.init()\n",
        "from colorama import Fore, Style, Back\n",
        "\n",
        "import random\n",
        "import pickle\n",
        "\n",
        "with open(\"C:/Users/avari/OneDrive/Documents/AI Final Project/intents.json\") as file:\n",
        "    data = json.load(file)\n",
        "\n",
        "\n",
        "def chat():\n",
        "    # load trained model\n",
        "    model = keras.models.load_model('C:/Users/avari/OneDrive/Documents/AI Final Project/Test/chat_model')\n",
        "\n",
        "    # load tokenizer object\n",
        "    with open('C:/Users/avari/OneDrive/Documents/AI Final Project/Test/tokenizer.pickle', 'rb') as handle:\n",
        "        tokenizer = pickle.load(handle)\n",
        "\n",
        "    # load label encoder object\n",
        "    with open('C:/Users/avari/OneDrive/Documents/AI Final Project/Test/label_encoder.pickle', 'rb') as enc:\n",
        "        lbl_encoder = pickle.load(enc)\n",
        "\n",
        "    # parameters\n",
        "    max_len = 20\n",
        "\n",
        "    while True:\n",
        "        print(Fore.LIGHTBLUE_EX + \"User: \" + Style.RESET_ALL, end=\"\")\n",
        "        inp = input()\n",
        "        if inp.lower() == \"quit\":\n",
        "            break\n",
        "\n",
        "        result = model.predict(keras.preprocessing.sequence.pad_sequences(tokenizer.texts_to_sequences([inp]),\n",
        "                                             truncating='post', maxlen=max_len))\n",
        "        tag = lbl_encoder.inverse_transform([np.argmax(result)])[0]\n",
        "\n",
        "        intent_found = False\n",
        "        for i in data['intents']:\n",
        "            if i['tag'] == tag:\n",
        "                print(Fore.GREEN + \"Companion Bot:\" + Style.RESET_ALL, np.random.choice(i['responses']))\n",
        "                intent_found = True\n",
        "                break\n",
        "\n",
        "        if not intent_found:\n",
        "            default_response = \"Sorry, I couldn't catch that, can you repeat please?\"\n",
        "            print(Fore.RED + \"Companion Bot:\" + Style.RESET_ALL, default_response)\n",
        "\n",
        "# Add a welcome message\n",
        "print(Fore.YELLOW + \"Start messaging with the bot (type quit to stop)!\" + Style.RESET_ALL)\n",
        "\n",
        "# Start the chat\n",
        "chat()"
      ]
    }
  ],
  "metadata": {
    "colab": {
      "provenance": []
    },
    "kernelspec": {
      "display_name": "Python 3",
      "name": "python3"
    },
    "language_info": {
      "codemirror_mode": {
        "name": "ipython",
        "version": 3
      },
      "file_extension": ".py",
      "mimetype": "text/x-python",
      "name": "python",
      "nbconvert_exporter": "python",
      "pygments_lexer": "ipython3",
      "version": "3.10.0"
    }
  },
  "nbformat": 4,
  "nbformat_minor": 0
}
